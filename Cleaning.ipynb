{
 "cells": [
  {
   "cell_type": "code",
   "execution_count": null,
   "metadata": {
    "scrolled": true
   },
   "outputs": [],
   "source": [
    "df_trip = pd.read_csv(\"liste musées 2.csv\", index_col=0)\n",
    "df_url = pd.read_csv(\"url musées tripadvisor.csv\",index_col=0)\n",
    "df_trip.rename(columns={\"avis\" : \"reviews\"}, inplace=True)\n",
    "df_trip"
   ]
  },
  {
   "cell_type": "code",
   "execution_count": 101,
   "metadata": {},
   "outputs": [
    {
     "name": "stdout",
     "output_type": "stream",
     "text": [
      "<class 'pandas.core.frame.DataFrame'>\n",
      "Int64Index: 4192 entries, 0 to 4191\n",
      "Data columns (total 6 columns):\n",
      " #   Column       Non-Null Count  Dtype \n",
      "---  ------       --------------  ----- \n",
      " 0   title        4174 non-null   object\n",
      " 1   rating       3818 non-null   object\n",
      " 2   avis         3818 non-null   object\n",
      " 3   labels       4170 non-null   object\n",
      " 4   adress       3958 non-null   object\n",
      " 5   coordinates  4192 non-null   object\n",
      "dtypes: object(6)\n",
      "memory usage: 229.2+ KB\n"
     ]
    }
   ],
   "source": [
    "df_trip.info()"
   ]
  },
  {
   "cell_type": "markdown",
   "metadata": {},
   "source": [
    "# cleaning title"
   ]
  },
  {
   "cell_type": "code",
   "execution_count": null,
   "metadata": {
    "scrolled": true
   },
   "outputs": [],
   "source": [
    "print(len(df_trip[df_trip[\"title\"].isna()]), \"museums without a title\")\n",
    "df_trip[df_trip[\"title\"].isna()]"
   ]
  },
  {
   "cell_type": "code",
   "execution_count": 124,
   "metadata": {},
   "outputs": [],
   "source": [
    "#df_trip.loc[1125,[\"title\",\"rating\",'avis',\"labels\",\"adress\"]] = [\"Fondation du Doute\", \"bubble_40\", \"151 avis\",\"Musées spécialisés\",\"14 Rue de la Paix, 41000 Blois\"]\n",
    "#df_trip.loc[1509,\"title\"] = \"Maison du Patrimoine Edouard Boeglin\"\n",
    "df_trip.loc[1594, \"title\"] = \"Musee de la Vigne Et du Champagne\"\n",
    "df_trip.loc[1936,[\"title\",\"rating\",'avis',\"labels\",\"adress\"]] = [\"Musée de la Libération de Paris - Musée du Général Leclerc - Musée Jean Moulin\",\"bubble_40\", \"99 avis\", \"Musées militaires, Musées d'histoire\", \"Place Denfert-Rochereau 4 Avenue Du Colonel Henri Rol-Tanguy, 75014 Paris France\"]\n",
    "df_trip.loc[2111,\"title\"] = \"Bibliothèque Nationale de France - Richelieu Site\"\n",
    "df_trip.loc[3152, \"title\"] = \"Musée de la Résistance de la Déportation et de la Libération du Département du Lot\"\n",
    "df_trip = df_trip[~df_trip[\"title\"].isna()]"
   ]
  },
  {
   "cell_type": "markdown",
   "metadata": {},
   "source": [
    "## cleaning rating"
   ]
  },
  {
   "cell_type": "code",
   "execution_count": null,
   "metadata": {
    "scrolled": true
   },
   "outputs": [],
   "source": [
    "df_trip[\"rating\"] = df_trip[\"rating\"].str.replace(\"bubble_\",\"\").astype(\"float32\")/10\n",
    "df_trip"
   ]
  },
  {
   "cell_type": "code",
   "execution_count": null,
   "metadata": {
    "scrolled": true
   },
   "outputs": [],
   "source": [
    "df_trip['avis'] = df_trip['avis'].str.replace(\" avis\",\"\")\n",
    "df_trip['avis'] = df_trip['avis'].str.replace(\"NaN\",\"0\") \n",
    "df_trip['avis'] = df_trip['avis'].str.replace(\" \",\"\")\n",
    "df_trip['avis'] = df_trip['avis'].str.replace(\"\\xa0\",\"\")\n",
    "df_trip['avis'] = pd.to_numeric(df_trip['avis'])\n",
    "df_trip"
   ]
  },
  {
   "cell_type": "markdown",
   "metadata": {},
   "source": [
    "## labels"
   ]
  },
  {
   "cell_type": "code",
   "execution_count": 187,
   "metadata": {
    "scrolled": true
   },
   "outputs": [],
   "source": [
    "df_trip = df_trip[df_trip[\"labels\"] != \"Galeries d'art\"]"
   ]
  },
  {
   "cell_type": "markdown",
   "metadata": {},
   "source": [
    "## adress"
   ]
  },
  {
   "cell_type": "code",
   "execution_count": 177,
   "metadata": {},
   "outputs": [
    {
     "name": "stderr",
     "output_type": "stream",
     "text": [
      "C:\\Users\\richa\\anaconda3\\lib\\site-packages\\ipykernel_launcher.py:1: SettingWithCopyWarning:\n",
      "\n",
      "\n",
      "A value is trying to be set on a copy of a slice from a DataFrame.\n",
      "Try using .loc[row_indexer,col_indexer] = value instead\n",
      "\n",
      "See the caveats in the documentation: https://pandas.pydata.org/pandas-docs/stable/user_guide/indexing.html#returning-a-view-versus-a-copy\n",
      "\n",
      "C:\\Users\\richa\\anaconda3\\lib\\site-packages\\ipykernel_launcher.py:2: SettingWithCopyWarning:\n",
      "\n",
      "\n",
      "A value is trying to be set on a copy of a slice from a DataFrame.\n",
      "Try using .loc[row_indexer,col_indexer] = value instead\n",
      "\n",
      "See the caveats in the documentation: https://pandas.pydata.org/pandas-docs/stable/user_guide/indexing.html#returning-a-view-versus-a-copy\n",
      "\n",
      "C:\\Users\\richa\\anaconda3\\lib\\site-packages\\ipykernel_launcher.py:3: SettingWithCopyWarning:\n",
      "\n",
      "\n",
      "A value is trying to be set on a copy of a slice from a DataFrame.\n",
      "Try using .loc[row_indexer,col_indexer] = value instead\n",
      "\n",
      "See the caveats in the documentation: https://pandas.pydata.org/pandas-docs/stable/user_guide/indexing.html#returning-a-view-versus-a-copy\n",
      "\n",
      "C:\\Users\\richa\\anaconda3\\lib\\site-packages\\ipykernel_launcher.py:4: SettingWithCopyWarning:\n",
      "\n",
      "\n",
      "A value is trying to be set on a copy of a slice from a DataFrame.\n",
      "Try using .loc[row_indexer,col_indexer] = value instead\n",
      "\n",
      "See the caveats in the documentation: https://pandas.pydata.org/pandas-docs/stable/user_guide/indexing.html#returning-a-view-versus-a-copy\n",
      "\n"
     ]
    }
   ],
   "source": [
    "df_trip['city'] = df_trip['adress'].str.extract(\"\\d{5}(.*)F\")\n",
    "df_trip['city'] = df_trip['city'].str.replace(\",\",\"\")\n",
    "df_trip[\"postal_code\"] = df_trip[\"adress\"].str.extract(\"(\\d{5})\")\n",
    "df_trip[\"adress\"] = df_trip[\"adress\"].str.replace(\" France\", \"\")"
   ]
  },
  {
   "cell_type": "code",
   "execution_count": null,
   "metadata": {
    "scrolled": true
   },
   "outputs": [],
   "source": [
    "def clean_tup(x):\n",
    "    x = x.lstrip(\"(\")\n",
    "    x = x.rstrip(\")\")\n",
    "    x = x.split(\",\")\n",
    "    return x\n",
    "df_trip[\"coordinates\"] = df_trip[\"coordinates\"].apply(clean_tup)\n",
    "\n",
    "temp = df_trip[\"coordinates\"].apply(pd.Series)\n",
    "temp.columns = [\"latitude\",\"longitude\"]\n",
    "df_trip = pd.concat([df_trip,temp],axis=1)\n",
    "df_trip[\"latitude\"] = df_trip[\"latitude\"].str.replace(\"'\",\"\").replace('\"',\"\").astype(\"float64\")\n",
    "df_trip[\"longitude\"] = df_trip[\"longitude\"].str.replace(\"'\",\"\").replace('\"',\"\").astype(\"float64\")\n",
    "df_trip.drop(\"coordinates\", axis=1,inplace=True)"
   ]
  },
  {
   "cell_type": "markdown",
   "metadata": {},
   "source": [
    "## using reverse geocoding to find missing adress"
   ]
  },
  {
   "cell_type": "code",
   "execution_count": 298,
   "metadata": {},
   "outputs": [],
   "source": [
    "import requests\n",
    "import time\n",
    "to_reverse_geo = df_trip[(df_trip[\"postal_code\"].isna()) & (~df_trip[\"longitude\"].isna())]\n",
    "coo_list = to_reverse_geo['latitude'].astype(str) + \",\" + to_reverse_geo['longitude'].astype(str)\n",
    "city_list = []\n",
    "pcode_list = []\n",
    "api_url = \"http://dev.virtualearth.net/REST/v1/Locations/{}?o=json&key=AlTWqR9w6rm__Qib_WPX-9f3K9SEilwv5Sg4ZTJAbPpR8NsYil_04aHnFCnMr9EE\"\n",
    "\n",
    "for coordinates in coo_list:\n",
    "    response = requests.get(api_url.format(coordinates))\n",
    "    r = response.json()\n",
    "    try: \n",
    "        city = r[\"resourceSets\"][0][\"resources\"][0][\"address\"][\"locality\"]\n",
    "    except Exception as e: \n",
    "        city = \"NaN\"\n",
    "        print(e)\n",
    "    try: \n",
    "        postal_code = r[\"resourceSets\"][0][\"resources\"][0][\"address\"][\"postalCode\"]\n",
    "    except Exception as e: \n",
    "        postal_code = \"NaN\"\n",
    "        print(e)\n",
    "\n",
    "    city_list.append(city)\n",
    "    pcode_list.append(postal_code)\n",
    "    print(postal_code)\n",
    "    time.sleep(0.5)\n",
    "\n",
    "df_trip.loc[to_reverse_geo.index, \"city\"] = city_list\n",
    "df_trip.loc[to_reverse_geo.index, \"postal_code\"] = pcode_list"
   ]
  },
  {
   "cell_type": "markdown",
   "metadata": {},
   "source": [
    "## adding departement name"
   ]
  },
  {
   "cell_type": "code",
   "execution_count": null,
   "metadata": {
    "scrolled": false
   },
   "outputs": [],
   "source": [
    "df_dep = pd.read_html(\"https://www.regions-et-departements.fr/departements-francais\")[0]\n",
    "df_dep = df_dep.replace(\"2B\",\"20\").replace(\"2A\",\"20\").rename(columns={\"NUMÉROdu département\" : \"dep_num\", \"NOMdu département\" : \"dep_name\"})\n",
    "df_dep"
   ]
  },
  {
   "cell_type": "code",
   "execution_count": 338,
   "metadata": {},
   "outputs": [
    {
     "name": "stderr",
     "output_type": "stream",
     "text": [
      "C:\\Users\\richa\\anaconda3\\lib\\site-packages\\ipykernel_launcher.py:1: SettingWithCopyWarning:\n",
      "\n",
      "\n",
      "A value is trying to be set on a copy of a slice from a DataFrame.\n",
      "Try using .loc[row_indexer,col_indexer] = value instead\n",
      "\n",
      "See the caveats in the documentation: https://pandas.pydata.org/pandas-docs/stable/user_guide/indexing.html#returning-a-view-versus-a-copy\n",
      "\n"
     ]
    }
   ],
   "source": [
    "df_trip[\"dep_code\"] = df_trip[\"postal_code\"].apply(lambda x : x[:2] if pd.notnull(x) else x)\n",
    "df_trip=df_trip.merge(df_dep, left_on=\"dep_code\", right_on=\"dep_num\", how=\"left\")"
   ]
  },
  {
   "cell_type": "code",
   "execution_count": 340,
   "metadata": {},
   "outputs": [],
   "source": [
    "df_trip = df_trip.drop_duplicates(subset=[\"title\",\"city\"])\n",
    "df_trip.drop(\"dep_num\",axis=1, inplace=True)"
   ]
  },
  {
   "cell_type": "code",
   "execution_count": 346,
   "metadata": {},
   "outputs": [],
   "source": [
    "df_trip.to_csv(\"musées tripadvisor clean.csv\")"
   ]
  }
 ],
 "metadata": {
  "kernelspec": {
   "display_name": "Python 3",
   "language": "python",
   "name": "python3"
  },
  "language_info": {
   "codemirror_mode": {
    "name": "ipython",
    "version": 3
   },
   "file_extension": ".py",
   "mimetype": "text/x-python",
   "name": "python",
   "nbconvert_exporter": "python",
   "pygments_lexer": "ipython3",
   "version": "3.7.7"
  }
 },
 "nbformat": 4,
 "nbformat_minor": 4
}
